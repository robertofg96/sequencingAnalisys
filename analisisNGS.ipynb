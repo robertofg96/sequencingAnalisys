{
 "cells": [
  {
   "cell_type": "markdown",
   "metadata": {},
   "source": [
    "# Análisis de datos NGS"
   ]
  },
  {
   "cell_type": "markdown",
   "metadata": {},
   "source": [
    "### ¿Que es NGS?\n",
    "\n",
    "Next Generation sequencing o NGS es un conjunto de técnicas de ultra secuenciación genómica paralela, las cuales incluyen WGS (secuenciación del genoma completo), WES (secuenciacion del exoma completo) y RNAseq (secuenciacion del RNA), Dependiendo del propósito de nuestro estudio podemos usar un tipo de técnicas o varias. En este minitutorial nos centraremos en analizar datos de exoma, WES.\n"
   ]
  },
  {
   "cell_type": "markdown",
   "metadata": {},
   "source": [
    "<table class=\"image\">\n",
    "<tr><td><img src= \"imagenes/descarga.jpg\" width=\"1000\" height=\"1000\"></td></tr>\n",
    "</table>"
   ]
  },
  {
   "cell_type": "markdown",
   "metadata": {},
   "source": [
    "### ¿Qué tipo de análisis se llevará a cabo?\n",
    "\n",
    "En este minitutorial llevaremos a cabo el análisis de muestras de exoma para la búsqueda de mutaciones SNV (Single Nucleotide Variant) e Indels(Inserciones o deleciones).\n",
    "\n",
    "Un ejemplo de porque es tan útil este tipo de análisis es por ejemplo la búsqueda de marcadores para terapias contra el cáncer.\n"
   ]
  },
  {
   "cell_type": "markdown",
   "metadata": {},
   "source": [
    "<table class=\"image\">\n",
    "<tr><td><img src= \"imagenes/tipos.png\" width=\"600\" height=\"600\"></td></tr>"
   ]
  },
  {
   "cell_type": "markdown",
   "metadata": {},
   "source": [
    "### ¿Cuáles son los pasos a seguir para el análisis en este minitutorial?\n",
    "\n",
    "1. Instalar software básico necesario para el análisis\n",
    "    - Instalar Ubuntu, Windows Subsystem for Linux 2 (WSL2) y conda\n",
    "    - Clonar GitHub repo\n",
    "    - Crear environment en conda con las herramientas necesarias\n",
    "2. Descarga de las bases de datos y exoma para el análisis\n",
    "    - Obtener las referencias\n",
    "    - Obtener datos genómicos\n",
    "3. Análisis de exoma:\n",
    "    - Datos de input\n",
    "    - Control de calidad: Estudiamos la calidad de los datos que han sido secuenciados\n",
    "    - Trimming: Solucionamos ciertos problemas de calidad de los datos\n",
    "    - Alineamiento: Alineamos las muestras con el genoma de referencia\n",
    "    - Preprocesado: Procesamos los datos para prepararlos para la búsqueda de mutaciones\n",
    "    - Variant Calling: Buscamos las mutaciones"
   ]
  },
  {
   "cell_type": "markdown",
   "metadata": {},
   "source": [
    "### 1. Instalar software básico necesario para el análisis\n",
    "\n",
    "Este análisis se llevará a cabo usando el comando de línea de Linux o Mac y en el caso de Windows en una máquina virtual de Ubuntu para Linux.\n",
    "\n",
    "#### Instalar Ubuntu, Windows Subsystem for Linux 2 (WSL2) y conda\n",
    "\n",
    "- Descargad Ubuntu 20.04 for Windows\n",
    "\n",
    "- Busca Ubuntu en el menú de búsqueda de Windows y abra la terminal de Linux.\n",
    "\n",
    "- Crea tu usuario y contraseña.\n",
    "\n",
    "- Opcional: Para instalar WSL, siga las instrucciones en [https://docs.microsoft.com/en-us/windows/wsl/install](https://docs.microsoft.com/en-us/windows/wsl/install) .\n",
    "\n",
    "- Opcional: Copia y pega \\\\\\wsl$ en el exporador de archivos\n",
    "    \n",
    "- Descargar miniconda con:\n",
    "\n",
    "    wget [https://repo.anaconda.com/miniconda/Miniconda3-py38_4.11.0-Linux-x86_64.sh](https://repo.anaconda.com/miniconda/Miniconda3-py38_4.11.0-Linux-x86_64.sh) \n",
    "        \n",
    "    (Comprueba aquí para otros instaladores [ttps://docs.conda.io/en/latest/miniconda.html#linux-installers](https://docs.conda.io/en/latest/miniconda.html#linux-installers))\n",
    "        \n",
    "- Instalar miniconda con: bash Miniconda3-latest-Linux-x86_64.sh\n",
    "\n",
    "- Opcional: Instalar anaconda navigator en este enlace: https://www.anaconda.com/products/distribution\n",
    "    "
   ]
  },
  {
   "cell_type": "markdown",
   "metadata": {},
   "source": [
    "#### Clonar Github repo\n",
    "\n",
    "El siguiente paso es clonar el repositorio que contiene este jupyter notebook y el archivo yml para crear el environment:\n"
   ]
  },
  {
   "cell_type": "code",
   "execution_count": null,
   "metadata": {},
   "outputs": [],
   "source": [
    "%%bash\n",
    "\n",
    "# Copiando github repo\n",
    "git clone https://github.com/robertofg96/sequencingAnalisys.git"
   ]
  },
  {
   "cell_type": "markdown",
   "metadata": {},
   "source": [
    "#### Crear environment en conda con las herramientas necesarias\n",
    "\n",
    "Para el análisis del exoma debemos descargar varios paquetes de software, los cuales son;\n",
    "\n",
    "- ***Fastqc:*** Herramienta utilizada para proporcionar una descripción general de las métricas básicas de control de calidad para datos de secuenciación sin procesar de próxima generación.\n",
    "\n",
    "- ***Multiqc:*** MultiQC busca registros de análisis en un directorio determinado y compila un informe HTML. Es una herramienta de uso general, perfecta para resumir el resultado de numerosas herramientas bioinformáticas.\n",
    "\n",
    "- ***BBmap/BBtools:*** Incluye herramientas como bbduk para recortar reads de datos secuenciados de baja calidad, con adaptadores o para solucionar otros problemas de los datos brutos.\n",
    "\n",
    "- ***Samtools:*** Samtools es un conjunto de programas para interactuar con datos de secuenciación de alto rendimiento.\n",
    "\n",
    "- ***GATK:*** El GATK es un paquete de software para identificar SNV e indel en datos de ADN y RNAseq de línea germinal.\n",
    "\n",
    "- ***BWA:*** BWA es un paquete de software para mapear secuencias contra un gran genoma de referencia.\n",
    "\n",
    "Una forma fácil de instalarlos es crear environment en conda con todas las dependencias usando el archivo yml que tenéis en el repositorio."
   ]
  },
  {
   "cell_type": "code",
   "execution_count": null,
   "metadata": {},
   "outputs": [],
   "source": [
    "%%bash\n",
    "\n",
    "# Con esta linea de codigo podeis crear el environment contodas las dependencias para el analisis\n",
    "conda env create -n ${nombreEnv} -f sequencingEnvironment.yml"
   ]
  },
  {
   "cell_type": "code",
   "execution_count": null,
   "metadata": {},
   "outputs": [],
   "source": [
    "%%bash\n",
    "\n",
    "# Activar el environment\n",
    "conda activate ${nombreEnv}"
   ]
  },
  {
   "cell_type": "markdown",
   "metadata": {},
   "source": [
    "### 2. Descarga de las bases de datos y exoma para el analisis\n",
    "\n",
    "#### ***Obtener las referencias***\n",
    "\n",
    "Para llevar a cabo el analisis necesitamos tambien los datos de exoma y bases de datos de referencia del genoma humano mutaciones somaticas. Estas referencias se componene de:\n",
    "\n",
    "- ***Homo_sapiens_assembly38.fasta:*** Genoma de referencia.\n",
    "\n",
    "- ***Homo_sapiens_assembly38.known_indels.vcf.gz:*** Base de datos de indels conocidas.\n",
    "\n",
    "- ***Homo_sapiens_assembly38.dbsnp138.vcf:*** Base de datos de snps.\n",
    "\n",
    "- ***af-only-gnomad.raw.sites.vcf:*** Base de datos de variantes."
   ]
  },
  {
   "cell_type": "code",
   "execution_count": null,
   "metadata": {},
   "outputs": [],
   "source": [
    "%%bash\n",
    "\n",
    "# Crea las carpetas donde guardaremos las referencias\n",
    "mkdir references references/genome references/indels references/snps references/gnomad\n",
    "\n",
    "# Descargar referencias\n",
    "\n",
    "# Descargar genoma\n",
    "gsutil cp gs://genomics-public-data/references/hg38/v0/Homo_sapiens_assembly38.fasta references/genome/\n",
    "gsutil cp gs://genomics-public-data/references/hg38/v0/Homo_sapiens_assembly38.dict references/genome/\n",
    "\n",
    "\n",
    "# Descaragar base de datos de indels\n",
    "gsutil cp gs://genomics-public-data/references/hg38/v0/Homo_sapiens_assembly38.known_indels.vcf.gz references/indels\n",
    "gsutil cp gs://genomics-public-data/references/hg38/v0/Homo_sapiens_assembly38.known_indels.vcf.gz.tbi references/indels\n",
    "unzip references/indels Homo_sapiens_assembly38.known_indels.vcf.gz\n",
    "unzip references/indels Homo_sapiens_assembly38.known_indels.vcf.gz.tbi\n",
    "\n",
    "\n",
    "# Descargar base de datos de snps\n",
    "gsutil cp gs://genomics-public-data/references/hg38/v0/Homo_sapiens_assembly38.dbsnp138.vcf references/snps\n",
    "gsutil cp gs://genomics-public-data/references/hg38/v0/Homo_sapiens_assembly38.dbsnp138.vcf.idx references/snps\n",
    "\n",
    "\n",
    "# Descargar base de datos de gnomad\n",
    "gsutil cp gs://storage.cloud.google.com/gatk-best-practices/somatic-b37/af-only-gnomad.raw.sites.vcf references/gnomad"
   ]
  },
  {
   "cell_type": "code",
   "execution_count": null,
   "metadata": {},
   "outputs": [],
   "source": [
    "%%bash\n",
    "\n",
    "# Crear un index del genoma\n",
    "samtools faidx references/genome/Homo_sapiens_assembly38.fasta"
   ]
  },
  {
   "cell_type": "markdown",
   "metadata": {},
   "source": [
    "#### ***Obtener los datos genomicos***"
   ]
  },
  {
   "cell_type": "code",
   "execution_count": null,
   "metadata": {},
   "outputs": [],
   "source": [
    "%%bash\n",
    "\n",
    "# Crea la carpete para los samples del analisis\n",
    "mkdir sample1_file sample1_file/sample1_fastq sample1_file/sample1_fastqc sample1_file/sample1_trimming sample1_file/sample1_alineado sample1_file/sample1_preprocesado sample1_file/sample1_mutect2\n",
    "cd sample1_file\n",
    "\n",
    "# Descarga los samples\n",
    "wget ftp://ftp.sra.ebi.ac.uk/vol1/fastq/SRR099/SRR099958/SRR099958_1.fastq.gz\n",
    "wget ftp://ftp.sra.ebi.ac.uk/vol1/fastq/SRR099/SRR099958/SRR099958_2.fastq.gz\n",
    "\n",
    "# unzip los datos\n",
    "unzip SRR099958_1.fastq.gz\n",
    "unzip SRR099958_2.fastq.gz\n",
    "\n",
    "# cambiar nombres\n",
    "mv SRR099958_1.fastq sample1_1.fastq\n",
    "mv SRR099958_2.fastq sample1_2.fastq\n",
    "\n",
    "# mover los datos a la carpet fastq\n",
    "mv sample1_*.fastq sample1_fastq"
   ]
  },
  {
   "cell_type": "markdown",
   "metadata": {},
   "source": [
    "### Analisis de exoma:"
   ]
  },
  {
   "cell_type": "markdown",
   "metadata": {},
   "source": [
    "#### Datos de input\n",
    "\n",
    "Los datos genomicos secuenciados vienen en formato fastq.\n",
    "\n",
    "***Fastq:***\n",
    "\n",
    "El formato FASTQ es un formato basado en texto para almacenar tanto una secuencia biológica (normalmente una secuencia de nucleótidos) como sus puntuaciones de calidad correspondientes.\n",
    "<table class=\"image\">\n",
    "<tr><td><img src= \"imagenes/A-sample-of-the-FASTQ-file.png\" width=\"1000\" height=\"1000\"></td></tr>\n",
    "</table>"
   ]
  },
  {
   "cell_type": "markdown",
   "metadata": {},
   "source": [
    "***Datos de secuanciancion pair y single end***"
   ]
  },
  {
   "cell_type": "markdown",
   "metadata": {},
   "source": [
    "Cuando secuenciamos podemos hacerlo de dos maneras:\n",
    "    \n",
    "***- Single end:*** Implica secuenciar el ADN de un solo extremo. Esta solución ofrece grandes volúmenes de datos de alta calidad, de forma rápida y económica. La secuenciación single end puede ser una buena opción para determinados métodos, como secuenciación de inmunoprecipitación de cromatina (ChIP-Seq) o ARN-Seq pequeño.\n",
    "\n",
    "***- Pair end:*** Permite secuenciar ambos extremos de un fragmento y generar datos de secuencias de alta calidad. La secuenciación pair end facilita la detección de reordenamientos genómicos y elementos de secuencias repetitivas, así como fusiones de genes.\n",
    "\n",
    "Además de producir el doble de lecturas por el mismo tiempo y esfuerzo en la preparación de la biblioteca, las secuencias alineadas como pair end permiten una alineación de lectura más precisa y la capacidad de detectar variantes de inserción-eliminación (indel), lo que no es posible con single end.\n",
    "\n",
    "Para mas informacion: https://www.youtube.com/watch?v=hRKes6_dv2k\n",
    "\n",
    "\n",
    "<font color='red'>***En este analisis usaremos pair end data***</font>"
   ]
  },
  {
   "cell_type": "markdown",
   "metadata": {},
   "source": [
    "#### <font color='blue'>***Primer Paso: Control de calidad***</font>\n",
    "\n",
    "Los secuenciadores modernos de alto rendimiento pueden generar decenas de millones de secuencias de una vez. Antes de analizar esta secuencia para sacar conclusiones biológicas, debemos llevar a cabo controles de calidad simples para asegurarse de que los datos sin procesar se vean bien\n",
    "y no hay problemas o sesgos en sus datos que puedan afectar al analisis.\n",
    "\n",
    "FastQC tiene como objetivo proporcionar una forma sencilla de realizar un control de calidad en los datos de secuenciación.\n",
    "\n",
    "https://rtsf.natsci.msu.edu/genomics/tech-notes/fastqc-tutorial-and-faq/#:~:text=The%20output%20from%20FastQC%2C%20after,or%20%E2%80%9CFail%E2%80%9D%20is%20assigned.\n"
   ]
  },
  {
   "cell_type": "markdown",
   "metadata": {},
   "source": [
    "<table class=\"image\">\n",
    "    \n",
    "<tr><td><img src= \"imagenes/fastqc.png\" width=\"600\" height=\"600\"></td></tr>"
   ]
  },
  {
   "cell_type": "code",
   "execution_count": null,
   "metadata": {},
   "outputs": [],
   "source": [
    "# Descarga los samples\n",
    "fastqc sample_file/sample1_1.fastq -o sample_file/sample1_fastqc/\n",
    "fastqc sample_file/sample1_2.fastq -o sample_file/sample1_fastqc/"
   ]
  },
  {
   "cell_type": "markdown",
   "metadata": {},
   "source": [
    "#### <font color='blue'>***Segundo Paso: Trimming***</font>\n",
    "\n",
    "El trimado es un proceso que no siempre hay que llevar a cabo y depende de los resultados del control de calidad. Los softwares de trimado suelen usarse para mejorar la calidade de los reads, quitar adaptadores, resolver problemas de contaminacion entre otros.\n",
    "\n",
    "En nuestro caso usaremos bbduk para llevar a cabo el trimado. En estos enlaces teneis mas informacion sobre todo lo que podemos hacer con esta herramienta.\n",
    "\n",
    "https://jgi.doe.gov/data-and-tools/software-tools/bbtools/bb-tools-user-guide/bbduk-guide/\n",
    "\n",
    "http://seqanswers.com/forums/showthread.php?t=42776"
   ]
  },
  {
   "cell_type": "code",
   "execution_count": null,
   "metadata": {},
   "outputs": [],
   "source": [
    "%%bash\n",
    "\n",
    "# Haciendo trimmado\n",
    "bbduk.sh in=sample1_fastq/sample1_1.fastq in2=sample1_fastq/sample1_2.fastq out=sample1_trimmed_1.fastq.gz out2=sample1_trimmed_2.fastq.gz qtrim=rl trimq=30"
   ]
  },
  {
   "cell_type": "markdown",
   "metadata": {},
   "source": [
    "#### <font color='blue'>***Tercer Paso: Alineamineto***</font>\n",
    "\n",
    "A continuacion necesitamos llevar a cabo el alineamiento/mapeado con el genoma de referencia.\n",
    "\n",
    "La secuenciación produce una colección de secuencias sin contexto genómico. No sabemos a qué parte del genoma corresponden las secuencias. Mapear las lecturas de un experimento a un genoma de referencia es un paso clave en el análisis de datos genómicos modernos. Con el mapeo, las lecturas se asignan a una ubicación específica en el genoma.\n",
    "\n",
    "Cuando llevemos a cabo el mapeado nuestro output sera un archivo BAM:\n",
    "\n",
    "***Bam files:***\n",
    "\n",
    "Un archivo BAM (*.bam) es la versión binaria comprimida de un archivo SAM que se utiliza para representar secuencias alineadas. Los formatos SAM y BAM se describen en detalle en https://samtools.github.io/hts-specs/SAMv1.pdf.\n",
    "\n",
    "Los archivos BAM contienen una sección de encabezado y una sección de alineación:\n",
    "\n",
    "▶ Encabezado: contiene información sobre todo el archivo, como el nombre de la muestra, la longitud de la muestra y el método de alineación. Las alineaciones en la sección de alineaciones están asociadas con información específica en la sección de encabezado.\n",
    "\n",
    "▶ Alineaciones: contiene el nombre, la secuencia y la calidad de los reads, ademas tambien contine la información de alineación y algunas etiquetas. El nombre de reads incluye el cromosoma, la coordenada de inicio y la calidad de la alineación.\n",
    "\n",
    "Para el alineamiento usaremos BWA. Podeis encontrar mas infomracion en este link:\n",
    "\n",
    "http://bio-bwa.sourceforge.net/\n",
    "\n",
    "<table class=\"image\">\n",
    "<tr><td><img src= \"imagenes/650px-BamRecNew.png\" width=\"1000\" height=\"1000\"></td></tr>\n",
    "</table>"
   ]
  },
  {
   "cell_type": "markdown",
   "metadata": {},
   "source": [
    "En primer lugar debemos crear un index usando como referencia el genoma con el que vamos a alinear:"
   ]
  },
  {
   "cell_type": "code",
   "execution_count": null,
   "metadata": {},
   "outputs": [],
   "source": [
    "%%bash\n",
    "\n",
    "# Crear el index de BWA\n",
    "bwa index references/genome/Homo_sapiens_assembly38.fasta"
   ]
  },
  {
   "cell_type": "markdown",
   "metadata": {},
   "source": [
    "Una vez tenemos el index podemos alinear nuestras muestras"
   ]
  },
  {
   "cell_type": "code",
   "execution_count": null,
   "metadata": {},
   "outputs": [],
   "source": [
    "%%bash\n",
    "\n",
    "# Alinear las muestras con el genoma de referencia\n",
    "bwa mem -M -R \"@RG\\tID:sample1\\tSM:Normal\\tLB:exome\\tPL:ILLUMINA\" references/BWAIndex \\\n",
    "sample1_file/sample1_trimmed/sample1_trimmed_1.fastq.gz sample1_file/sample1_trimmed/sample1_trimmed_2.fastq.gz > sample1_file/sample1_aligned/sample1.sam"
   ]
  },
  {
   "cell_type": "markdown",
   "metadata": {},
   "source": [
    "#### <font color='blue'>***Cuarto paso: Preprocesado***</font>\n",
    "\n",
    "EL preprocesado tiene diferentes pasos:\n",
    "\n",
    "- Convertir la muestra alineada de formato SAM a BAM\n",
    "\n",
    "- Ordenar por coordenadas la muestra alineada\n",
    "\n",
    "- Marcado de duplicados\n",
    "\n",
    "- Crear el index de la muestra alineada\n",
    "\n",
    "- BaseRecalibrator se usa para crear una tabla basada en covariables específicas. Realiza un recorrido por locus operando solo en sitios que están en los sitios conocidos VCF. Los recursos ExAc, gnomAD o dbSNP se pueden utilizar como sitios de variación conocidos. \n",
    "\n",
    "El objetivo de este procedimiento es corregir el sesgo sistemático que afecta la asignación de puntuaciones de calidad base por parte del secuenciador. El primer paso consiste en calcular el error empíricamente y encontrar patrones en la forma en que el error varía con las funciones de basecall en todas las bases. Las observaciones relevantes se escriben en una tabla de recalibración. El segundo paso consiste en aplicar correcciones numéricas a cada basecall individual según los patrones identificados en el primer paso (registrados en la tabla de recalibración) y escribir los datos recalibrados en un nuevo archivo BAM o CRAM."
   ]
  },
  {
   "cell_type": "code",
   "execution_count": null,
   "metadata": {},
   "outputs": [],
   "source": [
    "%%bash\n",
    "\n",
    "# Sam a BAM\n",
    "picard SamFormatConverter INPUT=sample1_file/sample1_aligned/sample1.sam OUTPUT=sample1_file/sample1_preprocesado/sample1.bam VALIDATION_STRINGENCY=LENIENT\n",
    "\n",
    "# Ordenar por coordenadas genticas\n",
    "picard SortSam SORT_ORDER=coordinate INPUT=sample1_file/sample1_preprocesado/sample1.bam OUTPUT=sample1_file/sample1_preprocesado/sample1_sorted.bam VALIDATION_STRINGENCY=LENIENT\n",
    "\n",
    "# Marcar duplicados\n",
    "picard MarkDuplicates METRICS_FILE=sample1_file/sample1_preprocesado/metrics_sample1.txt INPUT=sample1_file/sample1_preprocesado/sample1_sorted.bam OUTPUT=sample1_file/sample1_preprocesado/sample1_dedup.bam VALIDATION_STRINGENCY=LENIENT\n",
    "\n",
    "# Crear index\n",
    "picard BuildBamIndex INPUT=sample1_file/sample1_preprocesado/sample1_dedup.bam OUTPUT=sample1_file/sample1_preprocesado/sample1_dedup.bai\n",
    "\n",
    "# Recalibrado\n",
    "gatk BaseRecalibrator -I sample1/sample1_preprocesado/sample1_dedup.bam -R references/genome/Homo_sapiens_assembly38.fasta \\\n",
    "--known-sites references/indels/Homo_sapiens_assembly38.known_indels.vcf.gz --known-sites references/snps/Homo_sapiens_assembly38.dbsnp138.vcf -O sample1_file/sample1_preprocesado/sample1_dedup_recal_data.table\n",
    "\n",
    "# Aplicar recalibrado\n",
    "gatk ApplyBQSR -I sample1_file/sample1_preprocesado/sample1_dedup.bam -R  references/genome/Homo_sapiens_assembly38.fasta \\\n",
    "--bqsr-recal-file sample1_file/sample1_preprocesado/sample1_dedup_recal_data.table -O sample1_file/sample1_preprocesado/sample1_recal.bam"
   ]
  },
  {
   "cell_type": "markdown",
   "metadata": {},
   "source": [
    "#### <font color='blue'>***Quinto paso: Variant Calling***</font>\n",
    "\n",
    "\n",
    "Variant calling es un tipo de software que nos permite escanear muestras genomicas en busca de mutaciones. El software que usamos nos permite buscar varios tipos de mutaciones y ademas podemos filtrar las mutaciones germinales de por ejemplo muestras tumorales si introducimos muestras de tejido normal.\n",
    "\n",
    "Este tipo de herramientas propocionan como output archivos vcf. El VCF especifica el formato de un archivo de texto utilizado en bioinformática para almacenar variaciones de secuencias de genes.\n",
    "\n",
    "<tr><td><img src= \"imagenes/VCF.png\" width=\"1000\" height=\"1000\"></td></tr>"
   ]
  },
  {
   "cell_type": "code",
   "execution_count": null,
   "metadata": {},
   "outputs": [],
   "source": [
    "%%bash\n",
    "\n",
    "# Somaticas (no he usado las mismas muestras)\n",
    "gatk Mutect2 -R references/genome/Homo_sapiens_assembly38.fasta -I sample1_file/sample1_preprocesado/sample2_recal_tumor.bam -I sample1_file/sample2_preprocesado/sample1_recal_normal.bam \\\n",
    "--germline-resource references/gnomad/af-only-gnomad.raw.sites.vcf -O sample1_som_vars_mutect2_apareado.vcf.gz "
   ]
  },
  {
   "cell_type": "markdown",
   "metadata": {},
   "source": [
    "***Opcional: Multiqc***\n",
    "\n",
    "Multiqc es una herramienta que permite juntar de controles de calidad, estadisticas del alineamiento y busqueda de mutaciones en un report congraficos interactivos."
   ]
  },
  {
   "cell_type": "code",
   "execution_count": null,
   "metadata": {},
   "outputs": [],
   "source": [
    "%%bash\n",
    "\n",
    "multiqc SRR099958_fastqc/*_fastqc.zip"
   ]
  }
 ],
 "metadata": {
  "kernelspec": {
   "display_name": "Python 3",
   "language": "python",
   "name": "python3"
  },
  "language_info": {
   "codemirror_mode": {
    "name": "ipython",
    "version": 3
   },
   "file_extension": ".py",
   "mimetype": "text/x-python",
   "name": "python",
   "nbconvert_exporter": "python",
   "pygments_lexer": "ipython3",
   "version": "3.8.3"
  }
 },
 "nbformat": 4,
 "nbformat_minor": 4
}
